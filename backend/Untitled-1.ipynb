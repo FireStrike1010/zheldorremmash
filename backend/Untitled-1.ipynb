{
 "cells": [
  {
   "cell_type": "code",
   "execution_count": 1,
   "id": "714efdfe",
   "metadata": {},
   "outputs": [],
   "source": [
    "import pandas as pd\n",
    "import numpy as np\n",
    "import re\n",
    "from tqdm import tqdm"
   ]
  },
  {
   "cell_type": "code",
   "execution_count": 2,
   "id": "9e0047de",
   "metadata": {},
   "outputs": [],
   "source": [
    "def get_level(row: pd.Series) -> int:\n",
    "    row = np.array(row.notna(), dtype=np.bool)\n",
    "    return np.argmax(row) + 1 if row.any() else 0\n",
    "\n",
    "def remove_spaces(value: str) -> str:\n",
    "    return value.strip().replace('\\n\\n', '\\n')\n",
    "\n",
    "def remove_beging_number(value: str) -> str:\n",
    "    return re.sub(r'\\S+\\s', '', value, count=1)\n",
    "\n",
    "def fix_fucking_Ms(value: str) -> str:\n",
    "    return re.sub(r'^M|М(\\d+)', r'M\\1', value, count=1)"
   ]
  },
  {
   "cell_type": "code",
   "execution_count": 3,
   "id": "7df7f863",
   "metadata": {},
   "outputs": [],
   "source": [
    "def process_excel(file, sheet_name: str, skiprows: int = 0, usecols: str = None, columns_names: list[str] = None):\n",
    "    df = pd.read_excel(file, sheet_name=sheet_name, skiprows=skiprows, usecols=usecols)\n",
    "    df.columns = [col.strip() for col in df.columns]\n",
    "    if columns_names is not None:\n",
    "        df = df[columns_names]\n",
    "        df = df.rename(columns={columns_names[0]: 'category',\n",
    "                                columns_names[1]: 'level',\n",
    "                                columns_names[6]: 'task_value',\n",
    "                                columns_names[7]: 'control_element'})\n",
    "    df = df.dropna(subset=['control_element'])\n",
    "    df['category'] = df['category'].ffill().apply(remove_spaces).apply(fix_fucking_Ms)\n",
    "    df['task_value'] = df['task_value'].apply(remove_spaces).apply(remove_beging_number)\n",
    "    df['control_element'] = df['control_element'].apply(remove_spaces)\n",
    "    df['level'] = df[['level', 'Unnamed: 4', 'Unnamed: 5', 'Unnamed: 6', 'Unnamed: 7']].apply(get_level, axis=1)\n",
    "    df = df.drop(columns=['Unnamed: 4', 'Unnamed: 5', 'Unnamed: 6', 'Unnamed: 7'])\n",
    "    if len(df.loc[df['level'] == 0]) != 0:\n",
    "        raise Exception(df.loc[df['level'] == 0])\n",
    "    return df.reset_index(drop=True)"
   ]
  },
  {
   "cell_type": "code",
   "execution_count": 66,
   "id": "93e6cecc",
   "metadata": {},
   "outputs": [],
   "source": [
    "def to_dict(df: pd.DataFrame) -> dict:\n",
    "    def get_dict(df: pd.DataFrame) -> list[dict]:\n",
    "        df['answer_type'] = 'checkbox'\n",
    "        df['answer_label'] = 'Да/Нет'\n",
    "        df['answer_type_attributes'] = None\n",
    "        return dict(zip(range(1, len(df) + 1), df.transpose().to_dict().values()))\n",
    "    df = df.groupby(['category', 'level'], sort=True)[['task_value', 'control_element']].apply(get_dict)\n",
    "    df = df.reset_index()\n",
    "    df = df.groupby('category').apply(lambda grp: dict(zip(grp['level'], grp[0]))).to_dict()\n",
    "    return df"
   ]
  },
  {
   "cell_type": "code",
   "execution_count": 67,
   "id": "550ed41a",
   "metadata": {},
   "outputs": [],
   "source": [
    "d = {' Менеджмент': {'skiprows': 6, 'usecols': 'C:L', 'columns_names': ['Категория оценки', 'Уровень', 'Unnamed: 4', 'Unnamed: 5', 'Unnamed: 6', 'Unnamed: 7', 'Требование дорожной карты ПС ЖДРМ. Как достичь (How):', 'Контрольный элемент. Метод контроля']},\n",
    "     'Подготовка производства': {'skiprows': 5, 'usecols': 'C:L', 'columns_names': ['Категория оценки', 'Уровень', 'Unnamed: 4', 'Unnamed: 5', 'Unnamed: 6', 'Unnamed: 7', 'Требование дорожной карты ПС ЖДРМ. Как достичь (How):', 'Контрольный элемент. Метод проверки']},\n",
    "     'SF-m Ручные операции': {'skiprows': 5, 'usecols': 'C:L', 'columns_names': ['Категория оценки', 'Уровень', 'Unnamed: 4', 'Unnamed: 5', 'Unnamed: 6', 'Unnamed: 7', 'Требование дорожной карты ПС ЖДРМ. Как достичь (How):', 'Контрольный элемент. Метод проверки']},\n",
    "     'SF-e оборудование': {'skiprows': 5, 'usecols': 'C:L', 'columns_names': ['Категория оценки', 'Уровень', 'Unnamed: 4', 'Unnamed: 5', 'Unnamed: 6', 'Unnamed: 7', 'Требование дорожной карты ПС ЖДРМ. Как достичь (How):', 'Контрольный элемент']},\n",
    "     ' Качество': {'skiprows': 5, 'usecols': 'C:L', 'columns_names': ['Категория оценки', 'Уровень', 'Unnamed: 4', 'Unnamed: 5', 'Unnamed: 6', 'Unnamed: 7', 'Требование дорожной карты ПС ЖДРМ. Как достичь (How):', 'Контрольный элемент / Способ проверки']},\n",
    "     'ОТиБ': {'skiprows': 5, 'usecols': 'C:L', 'columns_names': ['Категория оценки', 'Уровень', 'Unnamed: 4', 'Unnamed: 5', 'Unnamed: 6', 'Unnamed: 7', 'Требование дорожной карты ПС ЖДРМ. Как достичь (How):', 'Контрольный элемент. Метод проверки']},\n",
    "     'Цепочка поставок': {'skiprows': 4, 'usecols': 'C:L', 'columns_names': ['Категория оценки', 'Уровень', 'Unnamed: 4', 'Unnamed: 5', 'Unnamed: 6', 'Unnamed: 7', 'Требование дорожной карты ПС ЖДРМ. Как достичь (How):', 'Контрольный элемент']},\n",
    "     'Техническое развитие': {'skiprows': 5, 'usecols': 'C:L', 'columns_names': ['Категория оценки', 'Уровень', 'Unnamed: 4', 'Unnamed: 5', 'Unnamed: 6', 'Unnamed: 7', 'Требование дорожной карты ПС ЖДРМ', 'Контрольный элемент']}}"
   ]
  },
  {
   "cell_type": "code",
   "execution_count": 68,
   "id": "054891fb",
   "metadata": {},
   "outputs": [
    {
     "name": "stderr",
     "output_type": "stream",
     "text": [
      "Processing: \"Менеджмент\" sheet:   0%|          | 0/8 [00:00<?, ?it/s]C:\\Users\\FS\\AppData\\Local\\Temp\\ipykernel_11968\\3130711547.py:9: DeprecationWarning: DataFrameGroupBy.apply operated on the grouping columns. This behavior is deprecated, and in a future version of pandas the grouping columns will be excluded from the operation. Either pass `include_groups=False` to exclude the groupings or explicitly select the grouping columns after groupby to silence this warning.\n",
      "  df = df.groupby('category').apply(lambda grp: dict(zip(grp['level'], grp[0]))).to_dict()\n",
      "Processing: \"Подготовка производства\" sheet:  12%|█▎        | 1/8 [00:00<00:04,  1.71it/s]C:\\Users\\FS\\AppData\\Local\\Temp\\ipykernel_11968\\3130711547.py:9: DeprecationWarning: DataFrameGroupBy.apply operated on the grouping columns. This behavior is deprecated, and in a future version of pandas the grouping columns will be excluded from the operation. Either pass `include_groups=False` to exclude the groupings or explicitly select the grouping columns after groupby to silence this warning.\n",
      "  df = df.groupby('category').apply(lambda grp: dict(zip(grp['level'], grp[0]))).to_dict()\n",
      "Processing: \"SF-m Ручные операции\" sheet:  25%|██▌       | 2/8 [00:01<00:03,  1.67it/s]   C:\\Users\\FS\\AppData\\Local\\Temp\\ipykernel_11968\\3130711547.py:9: DeprecationWarning: DataFrameGroupBy.apply operated on the grouping columns. This behavior is deprecated, and in a future version of pandas the grouping columns will be excluded from the operation. Either pass `include_groups=False` to exclude the groupings or explicitly select the grouping columns after groupby to silence this warning.\n",
      "  df = df.groupby('category').apply(lambda grp: dict(zip(grp['level'], grp[0]))).to_dict()\n",
      "Processing: \"SF-e оборудование\" sheet:  38%|███▊      | 3/8 [00:01<00:03,  1.64it/s]   C:\\Users\\FS\\AppData\\Local\\Temp\\ipykernel_11968\\3130711547.py:9: DeprecationWarning: DataFrameGroupBy.apply operated on the grouping columns. This behavior is deprecated, and in a future version of pandas the grouping columns will be excluded from the operation. Either pass `include_groups=False` to exclude the groupings or explicitly select the grouping columns after groupby to silence this warning.\n",
      "  df = df.groupby('category').apply(lambda grp: dict(zip(grp['level'], grp[0]))).to_dict()\n",
      "Processing: \"Качество\" sheet:  50%|█████     | 4/8 [00:02<00:02,  1.77it/s]         C:\\Users\\FS\\AppData\\Local\\Temp\\ipykernel_11968\\3130711547.py:9: DeprecationWarning: DataFrameGroupBy.apply operated on the grouping columns. This behavior is deprecated, and in a future version of pandas the grouping columns will be excluded from the operation. Either pass `include_groups=False` to exclude the groupings or explicitly select the grouping columns after groupby to silence this warning.\n",
      "  df = df.groupby('category').apply(lambda grp: dict(zip(grp['level'], grp[0]))).to_dict()\n",
      "Processing: \"ОТиБ\" sheet:  62%|██████▎   | 5/8 [00:02<00:01,  1.76it/s]    C:\\Users\\FS\\AppData\\Local\\Temp\\ipykernel_11968\\3130711547.py:9: DeprecationWarning: DataFrameGroupBy.apply operated on the grouping columns. This behavior is deprecated, and in a future version of pandas the grouping columns will be excluded from the operation. Either pass `include_groups=False` to exclude the groupings or explicitly select the grouping columns after groupby to silence this warning.\n",
      "  df = df.groupby('category').apply(lambda grp: dict(zip(grp['level'], grp[0]))).to_dict()\n",
      "Processing: \"Цепочка поставок\" sheet:  75%|███████▌  | 6/8 [00:03<00:01,  1.79it/s]C:\\Users\\FS\\AppData\\Local\\Temp\\ipykernel_11968\\3130711547.py:9: DeprecationWarning: DataFrameGroupBy.apply operated on the grouping columns. This behavior is deprecated, and in a future version of pandas the grouping columns will be excluded from the operation. Either pass `include_groups=False` to exclude the groupings or explicitly select the grouping columns after groupby to silence this warning.\n",
      "  df = df.groupby('category').apply(lambda grp: dict(zip(grp['level'], grp[0]))).to_dict()\n",
      "Processing: \"Техническое развитие\" sheet:  88%|████████▊ | 7/8 [00:03<00:00,  1.78it/s]C:\\Users\\FS\\AppData\\Local\\Temp\\ipykernel_11968\\3130711547.py:9: DeprecationWarning: DataFrameGroupBy.apply operated on the grouping columns. This behavior is deprecated, and in a future version of pandas the grouping columns will be excluded from the operation. Either pass `include_groups=False` to exclude the groupings or explicitly select the grouping columns after groupby to silence this warning.\n",
      "  df = df.groupby('category').apply(lambda grp: dict(zip(grp['level'], grp[0]))).to_dict()\n",
      "Done: 100%|██████████| 8/8 [00:04<00:00,  1.78it/s]                                    \n"
     ]
    }
   ],
   "source": [
    "data = {}\n",
    "with tqdm(total=len(d), desc='Processing excel file') as pbar:\n",
    "    for sheet_name, kwargs in d.items():\n",
    "        pbar.set_description(f\"Processing: \\\"{sheet_name.strip()}\\\" sheet\")\n",
    "        df = process_excel('C:/Users/FS/Downloads/ВТРЗ_Дорожная_карта_РОСТ_TOS_v2_ЖДРМ (1) (4).xlsx', sheet_name=sheet_name, **kwargs)\n",
    "        df = to_dict(df)\n",
    "        data[sheet_name.strip()] = df\n",
    "        pbar.update(1)\n",
    "    pbar.set_description('Done')"
   ]
  },
  {
   "cell_type": "code",
   "execution_count": 70,
   "id": "7c0b0db7",
   "metadata": {},
   "outputs": [],
   "source": [
    "import json"
   ]
  },
  {
   "cell_type": "code",
   "execution_count": 73,
   "id": "907ea51d",
   "metadata": {},
   "outputs": [],
   "source": [
    "with open('result.json', 'w', encoding='utf-8') as file:\n",
    "    json.dump(data, file, ensure_ascii=False, indent=4)"
   ]
  }
 ],
 "metadata": {
  "kernelspec": {
   "display_name": "Python 3",
   "language": "python",
   "name": "python3"
  },
  "language_info": {
   "codemirror_mode": {
    "name": "ipython",
    "version": 3
   },
   "file_extension": ".py",
   "mimetype": "text/x-python",
   "name": "python",
   "nbconvert_exporter": "python",
   "pygments_lexer": "ipython3",
   "version": "3.13.2"
  }
 },
 "nbformat": 4,
 "nbformat_minor": 5
}
